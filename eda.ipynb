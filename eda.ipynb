{
 "cells": [
  {
   "cell_type": "code",
   "execution_count": 1,
   "id": "c7035667",
   "metadata": {},
   "outputs": [],
   "source": [
    "# Dependencies\n",
    "\n",
    "import pandas as pd\n",
    "import matplotlib.pyplot as plt\n",
    "import seaborn as sns\n",
    "\n",
    "df = pd.DataFrame()"
   ]
  },
  {
   "cell_type": "code",
   "execution_count": null,
   "id": "4bf4e267",
   "metadata": {},
   "outputs": [],
   "source": [
    "# Import dataframe from out_data.csv"
   ]
  },
  {
   "cell_type": "code",
   "execution_count": null,
   "id": "b07bfb4f",
   "metadata": {},
   "outputs": [],
   "source": [
    "# Genres distribution"
   ]
  },
  {
   "cell_type": "code",
   "execution_count": null,
   "id": "806cdb6d",
   "metadata": {},
   "outputs": [],
   "source": [
    "# Manga description , count distribution"
   ]
  },
  {
   "cell_type": "code",
   "execution_count": null,
   "id": "b3efea1c",
   "metadata": {},
   "outputs": [],
   "source": [
    "# Bigram distribution for the manga description"
   ]
  },
  {
   "cell_type": "code",
   "execution_count": null,
   "id": "f9638533",
   "metadata": {},
   "outputs": [],
   "source": [
    "# Trigram distribution for the book description"
   ]
  },
  {
   "cell_type": "code",
   "execution_count": null,
   "id": "1764e784",
   "metadata": {},
   "outputs": [],
   "source": [
    "# Text Preprocessing"
   ]
  },
  {
   "cell_type": "code",
   "execution_count": null,
   "id": "6753376e",
   "metadata": {},
   "outputs": [],
   "source": []
  },
  {
   "cell_type": "code",
   "execution_count": null,
   "id": "667e4672",
   "metadata": {},
   "outputs": [],
   "source": []
  }
 ],
 "metadata": {
  "kernelspec": {
   "display_name": "Python 3 (ipykernel)",
   "language": "python",
   "name": "python3"
  },
  "language_info": {
   "codemirror_mode": {
    "name": "ipython",
    "version": 3
   },
   "file_extension": ".py",
   "mimetype": "text/x-python",
   "name": "python",
   "nbconvert_exporter": "python",
   "pygments_lexer": "ipython3",
   "version": "3.9.13"
  }
 },
 "nbformat": 4,
 "nbformat_minor": 5
}
