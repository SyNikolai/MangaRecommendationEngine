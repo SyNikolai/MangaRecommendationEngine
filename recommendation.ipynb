{
 "cells": [
  {
   "cell_type": "markdown",
   "id": "4d737f3d",
   "metadata": {},
   "source": [
    "# Recommendation Models"
   ]
  },
  {
   "cell_type": "code",
   "execution_count": 1,
   "id": "577ff2d4",
   "metadata": {},
   "outputs": [],
   "source": [
    "# Dependencies\n",
    "import pandas as pd\n",
    "from nltk.corpus import stopwords\n",
    "from sklearn.metrics.pairwise import linear_kernel\n",
    "from sklearn.feature_extraction.text import CountVectorizer\n",
    "from sklearn.feature_extraction.text import TfidfVectorizer\n",
    "from nltk.tokenize import RegexpTokenizer\n",
    "from sklearn.metrics.pairwise import cosine_similarity\n",
    "\n",
    "pd.set_option('display.max_columns', None)"
   ]
  },
  {
   "cell_type": "code",
   "execution_count": 2,
   "id": "6a1fd2c9",
   "metadata": {},
   "outputs": [],
   "source": [
    "df = pd.read_csv('cleaned_out_data.csv')"
   ]
  },
  {
   "cell_type": "code",
   "execution_count": 3,
   "id": "5d3af1df",
   "metadata": {},
   "outputs": [
    {
     "data": {
      "text/plain": [
       "60"
      ]
     },
     "execution_count": 3,
     "metadata": {},
     "output_type": "execute_result"
    }
   ],
   "source": [
    "df['cleaned_description'].isna().sum()"
   ]
  },
  {
   "cell_type": "code",
   "execution_count": 4,
   "id": "2d8beae4",
   "metadata": {},
   "outputs": [],
   "source": [
    "df.dropna(subset = ['cleaned_description'], inplace = True)"
   ]
  },
  {
   "cell_type": "code",
   "execution_count": 5,
   "id": "e1b67d4a",
   "metadata": {},
   "outputs": [],
   "source": [
    "def recommend(data, title):\n",
    "    \"\"\" function to produce 5 recommendation (titles in romaji) given a manga series title \"\"\"\n",
    "    \n",
    "    # Convert the index into series\n",
    "    indices = pd.Series(data.index, index = data['title.romaji'])\n",
    "    \n",
    "    #Converting the manga description into vectors and used bigram\n",
    "    tf = TfidfVectorizer(analyzer='word', ngram_range=(2, 2), min_df = 1, stop_words='english')\n",
    "    tfidf_matrix = tf.fit_transform(data['cleaned_description'])\n",
    "    \n",
    "    # Calculating the similarity measures based on Cosine Similarity\n",
    "    sg = cosine_similarity(tfidf_matrix, tfidf_matrix)\n",
    "    \n",
    "    # Get the index corresponding to original_title\n",
    "    idx = indices[title]\n",
    "    \n",
    "    # Get the pairwise similarity scores \n",
    "    sig = list(enumerate(sg[idx]))\n",
    "    \n",
    "    # Sort the books\n",
    "    sig = sorted(sig, key=lambda x: x[1], reverse=True)\n",
    "    \n",
    "    # Scores of the 5 most similar books \n",
    "    sig = sig[1:6]\n",
    "    \n",
    "    # Manga indicies\n",
    "    manga_indices = [i[0] for i in sig]\n",
    "   \n",
    "    # Top 5 book recommendation\n",
    "    rec = data.iloc[manga_indices]\n",
    "    rec.reset_index(drop = True, inplace = True)\n",
    "    \n",
    "    return rec[['title.romaji', 'title.english', 'siteUrl']]"
   ]
  },
  {
   "cell_type": "code",
   "execution_count": 6,
   "id": "1f43dbd1",
   "metadata": {
    "scrolled": true
   },
   "outputs": [
    {
     "data": {
      "text/html": [
       "<div>\n",
       "<style scoped>\n",
       "    .dataframe tbody tr th:only-of-type {\n",
       "        vertical-align: middle;\n",
       "    }\n",
       "\n",
       "    .dataframe tbody tr th {\n",
       "        vertical-align: top;\n",
       "    }\n",
       "\n",
       "    .dataframe thead th {\n",
       "        text-align: right;\n",
       "    }\n",
       "</style>\n",
       "<table border=\"1\" class=\"dataframe\">\n",
       "  <thead>\n",
       "    <tr style=\"text-align: right;\">\n",
       "      <th></th>\n",
       "      <th>title.romaji</th>\n",
       "      <th>genres</th>\n",
       "    </tr>\n",
       "  </thead>\n",
       "  <tbody>\n",
       "    <tr>\n",
       "      <th>0</th>\n",
       "      <td>MONSTER</td>\n",
       "      <td>['Drama', 'Mystery', 'Psychological', 'Thriller']</td>\n",
       "    </tr>\n",
       "    <tr>\n",
       "      <th>1</th>\n",
       "      <td>Berserk</td>\n",
       "      <td>['Action', 'Adventure', 'Drama', 'Fantasy', 'H...</td>\n",
       "    </tr>\n",
       "    <tr>\n",
       "      <th>2</th>\n",
       "      <td>20th Century Boys</td>\n",
       "      <td>['Drama', 'Mystery', 'Psychological', 'Sci-Fi'...</td>\n",
       "    </tr>\n",
       "    <tr>\n",
       "      <th>3</th>\n",
       "      <td>Yokohama Kaidashi Kikou</td>\n",
       "      <td>['Sci-Fi', 'Slice of Life']</td>\n",
       "    </tr>\n",
       "    <tr>\n",
       "      <th>4</th>\n",
       "      <td>Hajime no Ippo</td>\n",
       "      <td>['Action', 'Comedy', 'Drama', 'Sports']</td>\n",
       "    </tr>\n",
       "    <tr>\n",
       "      <th>5</th>\n",
       "      <td>Full Moon wo Sagashite</td>\n",
       "      <td>['Drama', 'Mahou Shoujo', 'Music', 'Romance', ...</td>\n",
       "    </tr>\n",
       "    <tr>\n",
       "      <th>6</th>\n",
       "      <td>Tsubasa: RESERVoir CHRoNiCLE</td>\n",
       "      <td>['Action', 'Adventure', 'Drama', 'Fantasy', 'R...</td>\n",
       "    </tr>\n",
       "    <tr>\n",
       "      <th>7</th>\n",
       "      <td>xxxHolic</td>\n",
       "      <td>['Comedy', 'Drama', 'Mystery', 'Supernatural']</td>\n",
       "    </tr>\n",
       "    <tr>\n",
       "      <th>8</th>\n",
       "      <td>NARUTO</td>\n",
       "      <td>['Action', 'Adventure']</td>\n",
       "    </tr>\n",
       "    <tr>\n",
       "      <th>9</th>\n",
       "      <td>BLEACH</td>\n",
       "      <td>['Action', 'Adventure', 'Supernatural']</td>\n",
       "    </tr>\n",
       "  </tbody>\n",
       "</table>\n",
       "</div>"
      ],
      "text/plain": [
       "                   title.romaji  \\\n",
       "0                       MONSTER   \n",
       "1                       Berserk   \n",
       "2             20th Century Boys   \n",
       "3       Yokohama Kaidashi Kikou   \n",
       "4                Hajime no Ippo   \n",
       "5        Full Moon wo Sagashite   \n",
       "6  Tsubasa: RESERVoir CHRoNiCLE   \n",
       "7                      xxxHolic   \n",
       "8                        NARUTO   \n",
       "9                        BLEACH   \n",
       "\n",
       "                                              genres  \n",
       "0  ['Drama', 'Mystery', 'Psychological', 'Thriller']  \n",
       "1  ['Action', 'Adventure', 'Drama', 'Fantasy', 'H...  \n",
       "2  ['Drama', 'Mystery', 'Psychological', 'Sci-Fi'...  \n",
       "3                        ['Sci-Fi', 'Slice of Life']  \n",
       "4            ['Action', 'Comedy', 'Drama', 'Sports']  \n",
       "5  ['Drama', 'Mahou Shoujo', 'Music', 'Romance', ...  \n",
       "6  ['Action', 'Adventure', 'Drama', 'Fantasy', 'R...  \n",
       "7     ['Comedy', 'Drama', 'Mystery', 'Supernatural']  \n",
       "8                            ['Action', 'Adventure']  \n",
       "9            ['Action', 'Adventure', 'Supernatural']  "
      ]
     },
     "execution_count": 6,
     "metadata": {},
     "output_type": "execute_result"
    }
   ],
   "source": [
    "df[['title.romaji', 'genres']].head(10)"
   ]
  },
  {
   "cell_type": "code",
   "execution_count": 7,
   "id": "8e3f737e",
   "metadata": {
    "scrolled": false
   },
   "outputs": [
    {
     "data": {
      "text/html": [
       "<div>\n",
       "<style scoped>\n",
       "    .dataframe tbody tr th:only-of-type {\n",
       "        vertical-align: middle;\n",
       "    }\n",
       "\n",
       "    .dataframe tbody tr th {\n",
       "        vertical-align: top;\n",
       "    }\n",
       "\n",
       "    .dataframe thead th {\n",
       "        text-align: right;\n",
       "    }\n",
       "</style>\n",
       "<table border=\"1\" class=\"dataframe\">\n",
       "  <thead>\n",
       "    <tr style=\"text-align: right;\">\n",
       "      <th></th>\n",
       "      <th>title.romaji</th>\n",
       "      <th>title.english</th>\n",
       "      <th>siteUrl</th>\n",
       "    </tr>\n",
       "  </thead>\n",
       "  <tbody>\n",
       "    <tr>\n",
       "      <th>0</th>\n",
       "      <td>Zone</td>\n",
       "      <td>Zone</td>\n",
       "      <td>https://anilist.co/manga/35147</td>\n",
       "    </tr>\n",
       "    <tr>\n",
       "      <th>1</th>\n",
       "      <td>Kaze no Stigma</td>\n",
       "      <td>Stigma of the Wind</td>\n",
       "      <td>https://anilist.co/manga/33237</td>\n",
       "    </tr>\n",
       "    <tr>\n",
       "      <th>2</th>\n",
       "      <td>Tsuki no Toiki: Ai no Kizu</td>\n",
       "      <td>Tail of the Moon: The Other Hanzo(u)</td>\n",
       "      <td>https://anilist.co/manga/31815</td>\n",
       "    </tr>\n",
       "    <tr>\n",
       "      <th>3</th>\n",
       "      <td>Kootetsu no Hana</td>\n",
       "      <td>NaN</td>\n",
       "      <td>https://anilist.co/manga/33949</td>\n",
       "    </tr>\n",
       "    <tr>\n",
       "      <th>4</th>\n",
       "      <td>Sword of the Dark Ones</td>\n",
       "      <td>Sword of the Dark Ones</td>\n",
       "      <td>https://anilist.co/manga/31354</td>\n",
       "    </tr>\n",
       "  </tbody>\n",
       "</table>\n",
       "</div>"
      ],
      "text/plain": [
       "                 title.romaji                         title.english  \\\n",
       "0                        Zone                                  Zone   \n",
       "1              Kaze no Stigma                    Stigma of the Wind   \n",
       "2  Tsuki no Toiki: Ai no Kizu  Tail of the Moon: The Other Hanzo(u)   \n",
       "3            Kootetsu no Hana                                   NaN   \n",
       "4      Sword of the Dark Ones                Sword of the Dark Ones   \n",
       "\n",
       "                          siteUrl  \n",
       "0  https://anilist.co/manga/35147  \n",
       "1  https://anilist.co/manga/33237  \n",
       "2  https://anilist.co/manga/31815  \n",
       "3  https://anilist.co/manga/33949  \n",
       "4  https://anilist.co/manga/31354  "
      ]
     },
     "execution_count": 7,
     "metadata": {},
     "output_type": "execute_result"
    }
   ],
   "source": [
    "recommend(df, 'NARUTO')"
   ]
  },
  {
   "cell_type": "code",
   "execution_count": null,
   "id": "28ac181e",
   "metadata": {},
   "outputs": [],
   "source": []
  }
 ],
 "metadata": {
  "kernelspec": {
   "display_name": "Python 3 (ipykernel)",
   "language": "python",
   "name": "python3"
  },
  "language_info": {
   "codemirror_mode": {
    "name": "ipython",
    "version": 3
   },
   "file_extension": ".py",
   "mimetype": "text/x-python",
   "name": "python",
   "nbconvert_exporter": "python",
   "pygments_lexer": "ipython3",
   "version": "3.9.13"
  }
 },
 "nbformat": 4,
 "nbformat_minor": 5
}
